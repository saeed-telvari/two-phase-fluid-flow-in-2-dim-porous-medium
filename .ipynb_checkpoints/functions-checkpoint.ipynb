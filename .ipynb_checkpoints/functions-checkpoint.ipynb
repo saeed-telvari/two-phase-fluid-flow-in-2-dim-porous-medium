{
 "cells": [
  {
   "cell_type": "code",
   "execution_count": 1,
   "id": "b544248c-bb0c-4a97-aec8-4bdaae6c0045",
   "metadata": {},
   "outputs": [],
   "source": [
    "import numpy as np"
   ]
  },
  {
   "cell_type": "code",
   "execution_count": 8,
   "id": "8c6058cd-3174-4b19-9d63-5154a4a24437",
   "metadata": {},
   "outputs": [],
   "source": [
    "# Functions :\n",
    "# relative_permeability\n",
    "# mobility\n",
    "# viscosity\n",
    "# FVF\n",
    "# capillary_pressure"
   ]
  },
  {
   "cell_type": "code",
   "execution_count": 2,
   "id": "488f4c00-a084-491c-8386-228e7a37258c",
   "metadata": {},
   "outputs": [],
   "source": [
    "def relative_permeability(S_wr, S_or, S_w, ndx, ndy):\n",
    "    S_we = np.zeros([ndx, ndy])\n",
    "    Kr_o = np.zeros([ndx, ndy])\n",
    "    Kr_w = np.zeros([ndx, ndy])\n",
    "    for i in range(ndx):\n",
    "        for j in range(ndy):\n",
    "            S_we[i][j] = (S_w[i][j] - S_wr) / (1 - S_or - S_wr)\n",
    "            Kr_o[i][j] = 0.9 * np.power(1-S_we, 2)\n",
    "            Kr_w[i][j] = 0.6 * np.power(S_we, 2)\n",
    "    return Kr_o, Kr_w"
   ]
  },
  {
   "cell_type": "code",
   "execution_count": 12,
   "id": "10a147bf-9acb-4025-a317-cbe5087d9ddc",
   "metadata": {},
   "outputs": [],
   "source": [
    "def mobility(BCW, BCE, BCN, BCS, Kr_o, Kr_w, Vis_o, Vis_w, Bo, Bw, Po, Pw, ndx, ndy):\n",
    "    lambda_o = np.zeros([5, ndx, ndy])\n",
    "    lambda_w = np.zeros([5, ndx, ndy])\n",
    "    for i in range(ndx):\n",
    "        for j in range(ndy):\n",
    "            # West\n",
    "            if BCW[i][j] == 100:\n",
    "                if Po[i][j] > Po[i][j-1]:\n",
    "                    lambda_o[0][i][j] = Kr_o[i][j] / (Vis_o[i][j] * Bo[i][j])\n",
    "                else:\n",
    "                    lambda_o[0][i][j] = Kr_o[i][j-1] / (Vis_o[i][j-1] * Bo[i][j-1])\n",
    "                if Pw[i][j] > Pw[i][j-1]:\n",
    "                    lambda_w[0][i][j] = Kr_w[i][j] / (Vis_w[i][j] * Bw[i][j])\n",
    "                else:\n",
    "                    lambda_w[0][i][j] = Kr_w[i][j-1] / (Vis_w[i][j-1] * Bw[i][j-1])\n",
    "            else:\n",
    "                lambda_o[0][i][j] = Kr_o[i][j] / (Vis_o[i][j] * Bo[i][j])\n",
    "                lambda_w[0][i][j] = Kr_w[i][j] / (Vis_w[i][j] * Bw[i][j])\n",
    "            # East\n",
    "            if BCE[i][j] == 100:\n",
    "                if Po[i][j] > Po[i][j+1]:\n",
    "                    lambda_o[1][i][j] = Kr_o[i][j] / (Vis_o[i][j] * Bo[i][j])\n",
    "                else:\n",
    "                    lambda_o[1][i][j] = Kr_o[i][j+1] / (Vis_o[i][j+1] * Bo[i][j+1])\n",
    "                if Pw[i][j] > Pw[i][j+1]:\n",
    "                    lambda_w[1][i][j] = Kr_w[i][j] / (Vis_w[i][j] * Bw[i][j])\n",
    "                else:\n",
    "                    lambda_w[1][i][j] = Kr_w[i][j+1] / (Vis_w[i][j+1] * Bw[i][j+1])\n",
    "            else:\n",
    "                lambda_o[1][i][j] = Kr_o[i][j] / (Vis_o[i][j] * Bo[i][j])\n",
    "                lambda_w[1][i][j] = Kr_w[i][j] / (Vis_w[i][j] * Bw[i][j])\n",
    "            # North\n",
    "            if BCN[i][j] == 100:\n",
    "                if Po[i][j] > Po[i-1][j]:\n",
    "                    lambda_o[2][i][j] = Kr_o[i][j] / (Vis_o[i][j] * Bo[i][j])\n",
    "                else:\n",
    "                    lambda_o[2][i][j] = Kr_o[i-1][j] / (Vis_o[i-1][j] * Bo[i-1][j])\n",
    "                if Pw[i][j] > Pw[i-1][j]:\n",
    "                    lambda_w[2][i][j] = Kr_w[i][j] / (Vis_w[i][j] * Bw[i][j])\n",
    "                else:\n",
    "                    lambda_w[2][i][j] = Kr_w[i-1][j] / (Vis_w[i-1][j] * Bw[i-1][j])\n",
    "            else:\n",
    "                lambda_o[2][i][j] = Kr_o[i][j] / (Vis_o[i][j] * Bo[i][j])\n",
    "                lambda_w[2][i][j] = Kr_w[i][j] / (Vis_w[i][j] * Bw[i][j])\n",
    "            # South\n",
    "            if BCS[i][j] == 100:\n",
    "                if Po[i][j] > Po[i+1][j]:\n",
    "                    lambda_o[3][i][j] = Kr_o[i][j] / (Vis_o[i][j] * Bo[i][j])\n",
    "                else:\n",
    "                    lambda_o[3][i][j] = Kr_o[i+1][j] / (Vis_o[i+1][j] * Bo[i+1][j])\n",
    "                if Pw[i][j] > Pw[i+1][j]:\n",
    "                    lambda_w[3][i][j] = Kr_w[i][j] / (Vis_w[i][j] * Bw[i][j])\n",
    "                else:\n",
    "                    lambda_w[3][i][j] = Kr_w[i+1][j] / (Vis_w[i+1][j] * Bw[i+1][j])\n",
    "            else:\n",
    "                lambda_o[3][i][j] = Kr_o[i][j] / (Vis_o[i][j] * Bo[i][j])\n",
    "                lambda_w[3][i][j] = Kr_w[i][j] / (Vis_w[i][j] * Bw[i][j])\n",
    "            \n",
    "            lambda_o[4][i][j] = Kr_o[i][j] / (Vis_o[i][j] * Bo[i][j])\n",
    "            lambda_w[4][i][j] = Kr_w[i][j] / (Vis_w[i][j] * Bw[i][j])\n",
    "    return lambda_o, lambda_w"
   ]
  },
  {
   "cell_type": "code",
   "execution_count": 11,
   "id": "8e6a4f00-13c3-4ace-8e4c-a9414f111946",
   "metadata": {},
   "outputs": [],
   "source": [
    "def viscosity(Po, Pw, ndx, ndy):\n",
    "    Vis_o = np.zeros([ndx, ndy])\n",
    "    Vis_w = np.zeros([ndx, ndy])\n",
    "#     for i in range(ndx):\n",
    "#         for j in range(ndy):\n",
    "    Vis_o = 2\n",
    "    Vis_w = 2\n",
    "    return Vis_o, Vis_w"
   ]
  },
  {
   "cell_type": "code",
   "execution_count": 10,
   "id": "487c564a-03b1-4263-a276-b3ef8ae50b3a",
   "metadata": {},
   "outputs": [],
   "source": [
    "def FVF(Po, Pw, Bo_0, Bw_0, Co, Cw, P_0, ndx, ndy, t):\n",
    "    Bo = np.zeros([ndx, ndy])\n",
    "    Bw = np.zeros([ndx, ndy])\n",
    "    dBo = np.zeros([ndx, ndy])\n",
    "    dBw = np.zeros([ndx, ndy])\n",
    "    for i in range(ndx):\n",
    "        for j in range(ndy):\n",
    "            Bo = Bo_0 / (1 + Co * (t - P_0))\n",
    "            Bw = Bw_0 / (1 + Cw * (t - P_0))\n",
    "            dBo = Co / Bo_0\n",
    "            dBw = Cw / Bw_0\n",
    "    return Bo, Bw, dBo, dBw"
   ]
  },
  {
   "cell_type": "code",
   "execution_count": 9,
   "id": "78e0581b-308d-4156-b5c6-9c5f734739f9",
   "metadata": {},
   "outputs": [],
   "source": [
    "def capillary_pressure(S_wr, S_or, S_w, ndx, ndy):\n",
    "    S_we = np.zeros([ndx, ndy])\n",
    "    Pc_1 = np.zeros([ndx, ndy])\n",
    "    Pc_2 = np.zeros([ndx, ndy])\n",
    "    for i in range(ndx):\n",
    "        for j in range(ndy):\n",
    "            S_we[i][j] = (S_w[i][j] - S_wr) / (1 - S_wr - S_or)\n",
    "            if S_we[i][j] < 0.001:\n",
    "                Pc_1 = 150\n",
    "                Pc_2 = -5 * (1 - S_wr - S_or) / (np.power(0.001, 4/3))\n",
    "            else:\n",
    "                Pc_1 = 15 / np.power(S_we[i][j], 1/3)\n",
    "                Pc_2 = -5 * (1 - S_wr - S_or) / (np.power(S_we[i][j], 4/3))\n",
    "    return Pc_1, Pc_2"
   ]
  },
  {
   "cell_type": "code",
   "execution_count": null,
   "id": "dca62357-762d-473c-b1d0-02f430f86fb5",
   "metadata": {},
   "outputs": [],
   "source": []
  },
  {
   "cell_type": "code",
   "execution_count": null,
   "id": "c88bc244-f88d-4b42-89d4-67226255171e",
   "metadata": {},
   "outputs": [],
   "source": []
  },
  {
   "cell_type": "code",
   "execution_count": null,
   "id": "3565f7b7-f582-44bb-b31c-f646853eeb13",
   "metadata": {},
   "outputs": [],
   "source": []
  },
  {
   "cell_type": "code",
   "execution_count": null,
   "id": "4105bbba-0cdf-47b0-9732-699954e16777",
   "metadata": {},
   "outputs": [],
   "source": []
  },
  {
   "cell_type": "code",
   "execution_count": null,
   "id": "bec527a1-71c0-4191-bc62-90d77e541f71",
   "metadata": {},
   "outputs": [],
   "source": []
  }
 ],
 "metadata": {
  "kernelspec": {
   "display_name": "Python 3 (ipykernel)",
   "language": "python",
   "name": "python3"
  },
  "language_info": {
   "codemirror_mode": {
    "name": "ipython",
    "version": 3
   },
   "file_extension": ".py",
   "mimetype": "text/x-python",
   "name": "python",
   "nbconvert_exporter": "python",
   "pygments_lexer": "ipython3",
   "version": "3.8.11"
  }
 },
 "nbformat": 4,
 "nbformat_minor": 5
}
