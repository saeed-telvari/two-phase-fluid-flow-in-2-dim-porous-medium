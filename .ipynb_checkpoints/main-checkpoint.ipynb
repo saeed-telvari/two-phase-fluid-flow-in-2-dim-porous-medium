{
 "cells": [
  {
   "cell_type": "code",
   "execution_count": 62,
   "id": "ee1e947d-bd0b-4f43-9543-391851d29fdf",
   "metadata": {},
   "outputs": [],
   "source": [
    "import numpy as np\n",
    "import pandas as pd\n",
    "import constants\n",
    "# import functions\n",
    "from constants import *\n",
    "from importlib import reload"
   ]
  },
  {
   "cell_type": "code",
   "execution_count": 34,
   "id": "2b62ce41-45d7-48a0-a75b-1c1169b29569",
   "metadata": {},
   "outputs": [],
   "source": [
    "consants = reload(constants)"
   ]
  },
  {
   "cell_type": "code",
   "execution_count": 35,
   "id": "2a1e5414-7299-46ed-a3fa-8b0fc4d180f6",
   "metadata": {},
   "outputs": [],
   "source": [
    "Po = np.zeros([ndt+1, ndx, ndy])\n",
    "Pw = np.zeros([ndt+1, ndx, ndy])\n",
    "Po[0] = Poi"
   ]
  },
  {
   "cell_type": "code",
   "execution_count": 36,
   "id": "d92d3450-639d-4cdf-b4aa-247e71ae2d75",
   "metadata": {},
   "outputs": [],
   "source": [
    "Qo = np.zeros([ndt+1, ndx, ndy])\n",
    "Qw = np.zeros([ndt+1, ndx, ndy])\n",
    "Qo[0] = qo\n",
    "Qw[0] = qw"
   ]
  },
  {
   "cell_type": "code",
   "execution_count": 45,
   "id": "5d86be0c-0764-4b19-9f77-dd955b48d578",
   "metadata": {},
   "outputs": [],
   "source": [
    "S_wr = 0.2\n",
    "S_or = 0.1\n",
    "S_wi = 0.2"
   ]
  },
  {
   "cell_type": "code",
   "execution_count": 53,
   "id": "47546b3d-e723-4ce7-841a-16f3f8b3958e",
   "metadata": {},
   "outputs": [],
   "source": [
    "S_w = np.zeros([ndt+1, ndx, ndy])\n",
    "S_o = np.zeros([ndt+1, ndx, ndy])\n",
    "S_w[0] = S_wi\n",
    "S_o[0] = 1 - S_wi"
   ]
  },
  {
   "cell_type": "code",
   "execution_count": 56,
   "id": "b7e2d310-aae4-42c0-b1df-ac0bb28f957d",
   "metadata": {},
   "outputs": [],
   "source": [
    "PHI = np.zeros([ndt, ndx, ndy])\n",
    "Pc = np.zeros([ndt, ndx, ndy])\n",
    "dPc = np.zeros([ndt, ndx, ndy])\n",
    "dBo = np.zeros([ndt, ndx, ndy])\n",
    "dBw = np.zeros([ndt, ndx, ndy])\n",
    "ToW = np.zeros([ndt, ndx, ndy])\n",
    "ToE = np.zeros([ndt, ndx, ndy])\n",
    "ToN = np.zeros([ndt, ndx, ndy])\n",
    "ToS = np.zeros([ndt, ndx, ndy])\n",
    "TwW = np.zeros([ndt, ndx, ndy])\n",
    "TwE = np.zeros([ndt, ndx, ndy])\n",
    "TwN = np.zeros([ndt, ndx, ndy])\n",
    "TwS = np.zeros([ndt, ndx, ndy])\n",
    "Cpoo = np.zeros([ndt, ndx, ndy])\n",
    "Cpow = np.zeros([ndt, ndx, ndy])\n",
    "Cswo = np.zeros([ndt, ndx, ndy])\n",
    "Csww = np.zeros([ndt, ndx, ndy])\n",
    "Alpha = np.zeros([ndt, ndx, ndy])\n",
    "Viso = np.zeros([ndt, ndx, ndy])\n",
    "Visw = np.zeros([ndt, ndx, ndy])\n",
    "Bo = np.zeros([ndt, ndx, ndy])\n",
    "Bw = np.zeros([ndt, ndx, ndy])\n",
    "t = 0"
   ]
  },
  {
   "cell_type": "code",
   "execution_count": null,
   "id": "c8dd883f-d425-48b3-9fb8-df64ac1217d0",
   "metadata": {},
   "outputs": [],
   "source": [
    "Pc[0], _ = capillary_pressure(S_wr, S_or, S_w[0], ndx, ndy)"
   ]
  },
  {
   "cell_type": "code",
   "execution_count": null,
   "id": "48f88a4d-c76f-43c1-bee0-ad3c29706244",
   "metadata": {},
   "outputs": [],
   "source": [
    "Pw[0] = Po[0] - Pc[0]"
   ]
  },
  {
   "cell_type": "code",
   "execution_count": null,
   "id": "3d455a9d-9386-4af8-9219-15f6393911a3",
   "metadata": {},
   "outputs": [],
   "source": [
    "Vis_o, Vis_w = viscosity(Po[0], Pw[0], ndx, ndy)"
   ]
  },
  {
   "cell_type": "code",
   "execution_count": null,
   "id": "ef6bdb1e-ba2d-44ca-8988-f595ef99c372",
   "metadata": {},
   "outputs": [],
   "source": []
  }
 ],
 "metadata": {
  "kernelspec": {
   "display_name": "Python 3 (ipykernel)",
   "language": "python",
   "name": "python3"
  },
  "language_info": {
   "codemirror_mode": {
    "name": "ipython",
    "version": 3
   },
   "file_extension": ".py",
   "mimetype": "text/x-python",
   "name": "python",
   "nbconvert_exporter": "python",
   "pygments_lexer": "ipython3",
   "version": "3.8.11"
  }
 },
 "nbformat": 4,
 "nbformat_minor": 5
}
