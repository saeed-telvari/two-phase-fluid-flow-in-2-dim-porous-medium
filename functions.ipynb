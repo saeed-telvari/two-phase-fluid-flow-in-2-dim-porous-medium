{
 "cells": [
  {
   "cell_type": "code",
   "execution_count": 1,
   "id": "b544248c-bb0c-4a97-aec8-4bdaae6c0045",
   "metadata": {},
   "outputs": [],
   "source": [
    "import numpy as np"
   ]
  },
  {
   "cell_type": "code",
   "execution_count": 2,
   "id": "8c6058cd-3174-4b19-9d63-5154a4a24437",
   "metadata": {},
   "outputs": [],
   "source": [
    "# Functions :\n",
    "# relative_permeability\n",
    "# mobility\n",
    "# viscosity\n",
    "# FVF\n",
    "# capillary_pressure"
   ]
  },
  {
   "cell_type": "code",
   "execution_count": 7,
   "id": "488f4c00-a084-491c-8386-228e7a37258c",
   "metadata": {},
   "outputs": [],
   "source": [
    "def relative_permeability(S_wr, S_or, S_w, ndx, ndy):\n",
    "    S_we = np.zeros([ndx, ndy])\n",
    "    Kr_o = np.zeros([ndx, ndy])\n",
    "    Kr_w = np.zeros([ndx, ndy])\n",
    "    \n",
    "#     Kr_o = ((-S_w + 1 - S_or)/(1 - S_or - S_wr)) ** 6\n",
    "#     Kr_w = ((S_w - S_wr)/(1 - S_or - S_wr)) ** 6\n",
    "    S_we = (np.subtract(S_w, S_wr)) / (1 - S_or - S_wr)\n",
    "    Kr_o = 0.9 * np.power(1-S_we, 2)\n",
    "    Kr_w = 0.6 * np.power(S_we, 2)   \n",
    "    for i in range(ndx):\n",
    "        for j in range(ndy):\n",
    "            if Kr_o[i][j] > 1:\n",
    "                Kr_o[i][j] = 1\n",
    "            if Kr_w[i][j] > 1:\n",
    "                Kr_w[i][j] = 1\n",
    "\n",
    "    return Kr_o, Kr_w"
   ]
  },
  {
   "cell_type": "code",
   "execution_count": 3,
   "id": "10a147bf-9acb-4025-a317-cbe5087d9ddc",
   "metadata": {},
   "outputs": [],
   "source": [
    "def mobility(BCW, BCE, BCN, BCS, Kr_o, Kr_w, Vis_o, Vis_w, Bo, Bw, Po, Pw, ndx, ndy):\n",
    "    lambda_o = np.zeros([5, ndx, ndy])\n",
    "    lambda_w = np.zeros([5, ndx, ndy])\n",
    "    for i in range(ndx):\n",
    "        for j in range(ndy):\n",
    "            # West\n",
    "            if BCW[i][j] == 100:\n",
    "                if Po[i][j] > Po[i][j-1]:\n",
    "                    lambda_o[1][i][j] = Kr_o[i][j] / (Vis_o[i][j] * Bo[i][j])\n",
    "                else:\n",
    "                    lambda_o[1][i][j] = Kr_o[i][j-1] / (Vis_o[i][j-1] * Bo[i][j-1])\n",
    "                if Pw[i][j] > Pw[i][j-1]:\n",
    "                    lambda_w[1][i][j] = Kr_w[i][j] / (Vis_w[i][j] * Bw[i][j])\n",
    "                else:\n",
    "                    lambda_w[1][i][j] = Kr_w[i][j-1] / (Vis_w[i][j-1] * Bw[i][j-1])\n",
    "            else:\n",
    "                lambda_o[1][i][j] = Kr_o[i][j] / (Vis_o[i][j] * Bo[i][j])\n",
    "                lambda_w[1][i][j] = Kr_w[i][j] / (Vis_w[i][j] * Bw[i][j])\n",
    "            # East\n",
    "            if BCE[i][j] == 100:\n",
    "                if Po[i][j] > Po[i][j+1]:\n",
    "                    lambda_o[2][i][j] = Kr_o[i][j] / (Vis_o[i][j] * Bo[i][j])\n",
    "                else:\n",
    "                    lambda_o[2][i][j] = Kr_o[i][j+1] / (Vis_o[i][j+1] * Bo[i][j+1])\n",
    "                if Pw[i][j] > Pw[i][j+1]:\n",
    "                    lambda_w[2][i][j] = Kr_w[i][j] / (Vis_w[i][j] * Bw[i][j])\n",
    "                else:\n",
    "                    lambda_w[2][i][j] = Kr_w[i][j+1] / (Vis_w[i][j+1] * Bw[i][j+1])\n",
    "            else:\n",
    "                lambda_o[2][i][j] = Kr_o[i][j] / (Vis_o[i][j] * Bo[i][j])\n",
    "                lambda_w[2][i][j] = Kr_w[i][j] / (Vis_w[i][j] * Bw[i][j])\n",
    "            # North\n",
    "            if BCN[i][j] == 100:\n",
    "                if Po[i][j] > Po[i-1][j]:\n",
    "                    lambda_o[3][i][j] = Kr_o[i][j] / (Vis_o[i][j] * Bo[i][j])\n",
    "                else:\n",
    "                    lambda_o[3][i][j] = Kr_o[i-1][j] / (Vis_o[i-1][j] * Bo[i-1][j])\n",
    "                if Pw[i][j] > Pw[i-1][j]:\n",
    "                    lambda_w[3][i][j] = Kr_w[i][j] / (Vis_w[i][j] * Bw[i][j])\n",
    "                else:\n",
    "                    lambda_w[3][i][j] = Kr_w[i-1][j] / (Vis_w[i-1][j] * Bw[i-1][j])\n",
    "            else:\n",
    "                lambda_o[3][i][j] = Kr_o[i][j] / (Vis_o[i][j] * Bo[i][j])\n",
    "                lambda_w[3][i][j] = Kr_w[i][j] / (Vis_w[i][j] * Bw[i][j])\n",
    "            # South\n",
    "            if BCS[i][j] == 100:\n",
    "                if Po[i][j] > Po[i+1][j]:\n",
    "                    lambda_o[4][i][j] = Kr_o[i][j] / (Vis_o[i][j] * Bo[i][j])\n",
    "                else:\n",
    "                    lambda_o[4][i][j] = Kr_o[i+1][j] / (Vis_o[i+1][j] * Bo[i+1][j])\n",
    "                if Pw[i][j] > Pw[i+1][j]:\n",
    "                    lambda_w[4][i][j] = Kr_w[i][j] / (Vis_w[i][j] * Bw[i][j])\n",
    "                else:\n",
    "                    lambda_w[4][i][j] = Kr_w[i+1][j] / (Vis_w[i+1][j] * Bw[i+1][j])\n",
    "            else:\n",
    "                lambda_o[4][i][j] = Kr_o[i][j] / (Vis_o[i][j] * Bo[i][j])\n",
    "                lambda_w[4][i][j] = Kr_w[i][j] / (Vis_w[i][j] * Bw[i][j])\n",
    "            \n",
    "            lambda_o[0][i][j] = Kr_o[i][j] / (Vis_o[i][j] * Bo[i][j]) # for first initialization of lambda\n",
    "            lambda_w[0][i][j] = Kr_w[i][j] / (Vis_w[i][j] * Bw[i][j]) # for first initialization of lambda\n",
    "    return lambda_o, lambda_w"
   ]
  },
  {
   "cell_type": "code",
   "execution_count": 2,
   "id": "8e6a4f00-13c3-4ace-8e4c-a9414f111946",
   "metadata": {},
   "outputs": [],
   "source": [
    "def viscosity(Po, Pw, ndx, ndy):\n",
    "    # We could use pressure dependent equations but I just decided to use constant variable for each of the viscosities\n",
    "    # I will add the equations later\n",
    "    Vis_o = np.zeros([ndx, ndy])\n",
    "    Vis_w = np.zeros([ndx, ndy])\n",
    "    Vis_o += 2\n",
    "    Vis_w += 2\n",
    "    return Vis_o, Vis_w"
   ]
  },
  {
   "cell_type": "code",
   "execution_count": 7,
   "id": "487c564a-03b1-4263-a276-b3ef8ae50b3a",
   "metadata": {},
   "outputs": [],
   "source": [
    "def FVF(Po, Pw, Bo_0, Bw_0, Co, Cw, P_0, ndx, ndy, t):\n",
    "    Bo = np.zeros([ndx, ndy])\n",
    "    Bw = np.zeros([ndx, ndy])\n",
    "    dBo = np.zeros([ndx, ndy])\n",
    "    dBw = np.zeros([ndx, ndy])\n",
    "    Bo = Bo_0 / (1 + Co * (Po - P_0))\n",
    "    Bw = Bw_0 / (1 + Cw * (Pw - P_0))\n",
    "    for i in range(ndx):\n",
    "        for j in range(ndy):\n",
    "            dBo[i][j] = Co / Bo_0\n",
    "            dBw[i][j] = Cw / Bw_0\n",
    "    return Bo, Bw, dBo, dBw"
   ]
  },
  {
   "cell_type": "code",
   "execution_count": 5,
   "id": "78e0581b-308d-4156-b5c6-9c5f734739f9",
   "metadata": {},
   "outputs": [],
   "source": [
    "def capillary_pressure(S_wr, S_or, S_w, ndx, ndy):\n",
    "    S_we = np.zeros([ndx, ndy])\n",
    "    Pc = np.zeros([ndx, ndy]) \n",
    "    dPc = np.zeros([ndx, ndy]) \n",
    "    \n",
    "    \n",
    "    for i in range(ndx):\n",
    "        for j in range(ndy):\n",
    "            S_we[i][j] = (S_w[i][j] - S_wr) / (1 - S_wr - S_or)\n",
    "            if S_we[i][j] < 0.01:\n",
    "                Pc[i][j] = 150\n",
    "                dPc[i][j] = -15/3 * (1/(1 - S_wr - S_or)) / (np.power(0.001, 4/3))\n",
    "            else:\n",
    "                Pc[i][j] = 15 / np.power(S_we[i][j], 1/3)\n",
    "                dPc[i][j] = -15/3 * (1/(1 - S_wr - S_or)) / (np.power(S_we[i][j], 4/3))\n",
    "    return Pc, dPc"
   ]
  },
  {
   "cell_type": "code",
   "execution_count": 8,
   "id": "dca62357-762d-473c-b1d0-02f430f86fb5",
   "metadata": {},
   "outputs": [],
   "source": [
    "def porosity(P, Cphi, phi_0, P_0, ndx, ndy):\n",
    "    phi = np.zeros([ndx, ndy])\n",
    "    for i in range(ndx):\n",
    "        for j in range(ndy):\n",
    "            phi[i][j] = phi_0[i][j] * (1 + Cphi * (P[i][j] - P_0))\n",
    "    return phi"
   ]
  }
 ],
 "metadata": {
  "kernelspec": {
   "display_name": "Python 3 (ipykernel)",
   "language": "python",
   "name": "python3"
  },
  "language_info": {
   "codemirror_mode": {
    "name": "ipython",
    "version": 3
   },
   "file_extension": ".py",
   "mimetype": "text/x-python",
   "name": "python",
   "nbconvert_exporter": "python",
   "pygments_lexer": "ipython3",
   "version": "3.8.11"
  }
 },
 "nbformat": 4,
 "nbformat_minor": 5
}
