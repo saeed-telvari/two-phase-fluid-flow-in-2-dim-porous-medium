{
 "cells": [
  {
   "cell_type": "code",
   "execution_count": 1,
   "id": "ee1e947d-bd0b-4f43-9543-391851d29fdf",
   "metadata": {},
   "outputs": [],
   "source": [
    "import numpy as np\n",
    "import pandas as pd\n",
    "import constants\n",
    "import functions\n",
    "from functions import *\n",
    "from constants import *\n",
    "from importlib import reload"
   ]
  },
  {
   "cell_type": "code",
   "execution_count": 2,
   "id": "2b62ce41-45d7-48a0-a75b-1c1169b29569",
   "metadata": {},
   "outputs": [],
   "source": [
    "consants = reload(constants)\n",
    "functions = reload(functions)"
   ]
  },
  {
   "cell_type": "code",
   "execution_count": 3,
   "id": "2a1e5414-7299-46ed-a3fa-8b0fc4d180f6",
   "metadata": {},
   "outputs": [],
   "source": [
    "Po = np.zeros([ndt+1, ndx, ndy])\n",
    "Pw = np.zeros([ndt+1, ndx, ndy])\n",
    "Po[0] = Poi"
   ]
  },
  {
   "cell_type": "code",
   "execution_count": 4,
   "id": "d92d3450-639d-4cdf-b4aa-247e71ae2d75",
   "metadata": {},
   "outputs": [],
   "source": [
    "Qo = np.zeros([ndt+1, ndx, ndy])\n",
    "Qw = np.zeros([ndt+1, ndx, ndy])\n",
    "Qo[0] = qo\n",
    "Qw[0] = qw"
   ]
  },
  {
   "cell_type": "code",
   "execution_count": 5,
   "id": "5d86be0c-0764-4b19-9f77-dd955b48d578",
   "metadata": {},
   "outputs": [],
   "source": [
    "S_wr = 0.2\n",
    "S_or = 0.1\n",
    "S_wi = 0.2"
   ]
  },
  {
   "cell_type": "code",
   "execution_count": 6,
   "id": "47546b3d-e723-4ce7-841a-16f3f8b3958e",
   "metadata": {},
   "outputs": [],
   "source": [
    "S_w = np.zeros([ndt+1, ndx, ndy])\n",
    "S_o = np.zeros([ndt+1, ndx, ndy])\n",
    "S_w[0] = S_wi\n",
    "S_o[0] = 1 - S_wi"
   ]
  },
  {
   "cell_type": "code",
   "execution_count": 7,
   "id": "b7e2d310-aae4-42c0-b1df-ac0bb28f957d",
   "metadata": {},
   "outputs": [],
   "source": [
    "PHI = np.zeros([ndt, ndx, ndy])\n",
    "Pc = np.zeros([ndt, ndx, ndy])\n",
    "dPc = np.zeros([ndt, ndx, ndy])\n",
    "dBo = np.zeros([ndt, ndx, ndy])\n",
    "dBw = np.zeros([ndt, ndx, ndy])\n",
    "ToW = np.zeros([ndt, ndx, ndy])\n",
    "ToE = np.zeros([ndt, ndx, ndy])\n",
    "ToN = np.zeros([ndt, ndx, ndy])\n",
    "ToS = np.zeros([ndt, ndx, ndy])\n",
    "TwW = np.zeros([ndt, ndx, ndy])\n",
    "TwE = np.zeros([ndt, ndx, ndy])\n",
    "TwN = np.zeros([ndt, ndx, ndy])\n",
    "TwS = np.zeros([ndt, ndx, ndy])\n",
    "Cpoo = np.zeros([ndt, ndx, ndy])\n",
    "Cpow = np.zeros([ndt, ndx, ndy])\n",
    "Cswo = np.zeros([ndt, ndx, ndy])\n",
    "Csww = np.zeros([ndt, ndx, ndy])\n",
    "Alpha = np.zeros([ndt, ndx, ndy])\n",
    "Viso = np.zeros([ndt, ndx, ndy])\n",
    "Visw = np.zeros([ndt, ndx, ndy])\n",
    "Bo = np.zeros([ndt, ndx, ndy])\n",
    "Bw = np.zeros([ndt, ndx, ndy])\n",
    "t = 0"
   ]
  },
  {
   "cell_type": "code",
   "execution_count": 8,
   "id": "c32d1640-495c-4e70-b393-68e173d24095",
   "metadata": {},
   "outputs": [],
   "source": [
    "Pc[0], _ = capillary_pressure(S_wr, S_or, S_w[0], ndx, ndy)\n",
    "\n",
    "Pw[0] = Po[0] - Pc[0]"
   ]
  },
  {
   "cell_type": "code",
   "execution_count": 9,
   "id": "3d455a9d-9386-4af8-9219-15f6393911a3",
   "metadata": {},
   "outputs": [],
   "source": [
    "Vis_o, Vis_w = viscosity(Po[0], Pw[0], ndx, ndy)"
   ]
  },
  {
   "cell_type": "code",
   "execution_count": 11,
   "id": "ef6bdb1e-ba2d-44ca-8988-f595ef99c372",
   "metadata": {},
   "outputs": [],
   "source": [
    "Bo, Bw, dBo, dBw = FVF(Po, Pw, Bo_0, Bw_0, Co, Cw, P_0, ndx, ndy, t)\n",
    "Kr_o, Kr_w = relative_permeability(S_wr, S_or, S_w[0], ndx, ndy)\n",
    "lambda_o, lambda_w = mobility(BCW, BCE, BCN, BCS, Kr_o, Kr_w, Vis_o, Vis_w, Bo, Bw, Po[0], Pw[0], ndx, ndy)"
   ]
  },
  {
   "cell_type": "code",
   "execution_count": 18,
   "id": "056a5cc9-1ea8-4465-a759-bad0fef10a99",
   "metadata": {},
   "outputs": [
    {
     "name": "stderr",
     "output_type": "stream",
     "text": [
      "/tmp/ipykernel_2454/2077796487.py:1: RuntimeWarning: divide by zero encountered in true_divide\n",
      "  Jo = 2 * 3.14 * 1.127 * np.multiply(Kx, dz, lambda_o[0]) / (np.log(r_eq/rw_o) + S_o[0])\n",
      "/tmp/ipykernel_2454/2077796487.py:2: RuntimeWarning: divide by zero encountered in true_divide\n",
      "  Jw = 2 * 3.14 * 1.127 * Kx * dz * (Bo / Bw * lambda_o[0] + lambda_w[0]) / (np.log(r_eq/rw_w) + S_w[0])\n",
      "/tmp/ipykernel_2454/2077796487.py:3: RuntimeWarning: divide by zero encountered in true_divide\n",
      "  Jow = 2 * 3.14 * 1.127 * np.multiply(Kx, dz, lambda_w[0]) / (np.log(r_eq/rw_o) + S_o[0])\n"
     ]
    }
   ],
   "source": [
    "Jo = 2 * 3.14 * 1.127 * np.multiply(Kx, dz, lambda_o[0]) / (np.log(r_eq/rw_o) + S_o[0])\n",
    "Jw = 2 * 3.14 * 1.127 * Kx * dz * (Bo / Bw * lambda_o[0] + lambda_w[0]) / (np.log(r_eq/rw_w) + S_w[0])\n",
    "Jow = 2 * 3.14 * 1.127 * np.multiply(Kx, dz, lambda_w[0]) / (np.log(r_eq/rw_o) + S_o[0])"
   ]
  },
  {
   "cell_type": "code",
   "execution_count": 42,
   "id": "76e80320-ee33-4454-8482-27af96c72f8e",
   "metadata": {},
   "outputs": [
    {
     "data": {
      "text/plain": [
       "array([[   0,    0,    0,    0,    0,    0,    0,    0,    0,    0],\n",
       "       [   0,    0,    0,    0,    0,    0,    0,    0,    0,    0],\n",
       "       [   0,    0,    0,    0,    0,    0,    0,    0,    0,    0],\n",
       "       [   0,    0,    0,    0,    0,    0,    0,    0,    0,    0],\n",
       "       [   0,    0,    0,    0,    0,    0,    0,    0,    0,    0],\n",
       "       [   0,    0,    0,    0,    0,    0,    0,    0,    0,    0],\n",
       "       [   0,    0,    0,    0,    0,    0,    0,    0,    0,    0],\n",
       "       [   0,    0,    0,    0,    0,    0,    0,    0,    0,    0],\n",
       "       [   0,    0,    0,    0,    0,    0,    0,    0,    0,    0],\n",
       "       [   0,    0,    0,    0,    0,    0,    0,    0,    0, 5500]])"
      ]
     },
     "execution_count": 42,
     "metadata": {},
     "output_type": "execute_result"
    }
   ],
   "source": [
    "BHPo"
   ]
  },
  {
   "cell_type": "code",
   "execution_count": 41,
   "id": "76840174-eb79-4899-90c7-7f90bd27dfaf",
   "metadata": {},
   "outputs": [
    {
     "name": "stderr",
     "output_type": "stream",
     "text": [
      "/tmp/ipykernel_2454/3120544534.py:22: RuntimeWarning: invalid value encountered in true_divide\n",
      "  BHPw = Pw[0] + Qw[0] / Jw\n"
     ]
    },
    {
     "ename": "IndexError",
     "evalue": "invalid index to scalar variable.",
     "output_type": "error",
     "traceback": [
      "\u001b[0;31m---------------------------------------------------------------------------\u001b[0m",
      "\u001b[0;31mIndexError\u001b[0m                                Traceback (most recent call last)",
      "\u001b[0;32m/tmp/ipykernel_2454/3120544534.py\u001b[0m in \u001b[0;36m<module>\u001b[0;34m\u001b[0m\n\u001b[1;32m     25\u001b[0m     \u001b[0;32mfor\u001b[0m \u001b[0mi\u001b[0m \u001b[0;32min\u001b[0m \u001b[0mrange\u001b[0m\u001b[0;34m(\u001b[0m\u001b[0mndx\u001b[0m\u001b[0;34m)\u001b[0m\u001b[0;34m:\u001b[0m\u001b[0;34m\u001b[0m\u001b[0;34m\u001b[0m\u001b[0m\n\u001b[1;32m     26\u001b[0m         \u001b[0;32mfor\u001b[0m \u001b[0mj\u001b[0m \u001b[0;32min\u001b[0m \u001b[0mrange\u001b[0m\u001b[0;34m(\u001b[0m\u001b[0mndy\u001b[0m\u001b[0;34m)\u001b[0m\u001b[0;34m:\u001b[0m\u001b[0;34m\u001b[0m\u001b[0;34m\u001b[0m\u001b[0m\n\u001b[0;32m---> 27\u001b[0;31m             \u001b[0;32mif\u001b[0m \u001b[0mBHPo\u001b[0m\u001b[0;34m[\u001b[0m\u001b[0;36m0\u001b[0m\u001b[0;34m]\u001b[0m\u001b[0;34m[\u001b[0m\u001b[0mi\u001b[0m\u001b[0;34m]\u001b[0m\u001b[0;34m[\u001b[0m\u001b[0mj\u001b[0m\u001b[0;34m]\u001b[0m \u001b[0;34m==\u001b[0m \u001b[0;36m0\u001b[0m\u001b[0;34m:\u001b[0m\u001b[0;34m\u001b[0m\u001b[0;34m\u001b[0m\u001b[0m\n\u001b[0m\u001b[1;32m     28\u001b[0m                 \u001b[0mQo\u001b[0m\u001b[0;34m[\u001b[0m\u001b[0;36m0\u001b[0m\u001b[0;34m]\u001b[0m\u001b[0;34m[\u001b[0m\u001b[0mi\u001b[0m\u001b[0;34m]\u001b[0m\u001b[0;34m[\u001b[0m\u001b[0mj\u001b[0m\u001b[0;34m]\u001b[0m \u001b[0;34m=\u001b[0m \u001b[0;36m0\u001b[0m\u001b[0;34m\u001b[0m\u001b[0;34m\u001b[0m\u001b[0m\n\u001b[1;32m     29\u001b[0m             \u001b[0;32mif\u001b[0m \u001b[0mQw\u001b[0m\u001b[0;34m[\u001b[0m\u001b[0;36m0\u001b[0m\u001b[0;34m]\u001b[0m\u001b[0;34m[\u001b[0m\u001b[0mi\u001b[0m\u001b[0;34m]\u001b[0m\u001b[0;34m[\u001b[0m\u001b[0mj\u001b[0m\u001b[0;34m]\u001b[0m \u001b[0;34m==\u001b[0m \u001b[0;36m0\u001b[0m\u001b[0;34m:\u001b[0m\u001b[0;34m\u001b[0m\u001b[0;34m\u001b[0m\u001b[0m\n",
      "\u001b[0;31mIndexError\u001b[0m: invalid index to scalar variable."
     ]
    }
   ],
   "source": [
    "if IBo == 1 and IBw == 1:\n",
    "    BHPo = Po[0] + Qo[0] / Jo\n",
    "    BHPw = Pw[0] + Qw[0] / Jw\n",
    "    Qwo = Qo[0] * lambda_w[0] / lambda_o[0]\n",
    "    for i in range(ndx):\n",
    "        for j in range(ndy):\n",
    "            if Qo[0][i][j] == 0:\n",
    "                BHPo[0][i][j] = 0\n",
    "            if Qw[0][i][j] == 0:\n",
    "                BHPw[0][i][j] = 0\n",
    "if IBo == 1 and IBw == 2:\n",
    "    BHPo = Po[0] + Qo[0] / Jo\n",
    "    Qw[0] = Jw * (-Pw[0] + BHPw)\n",
    "    Qwo = Qo[0] * lambda_w[0] / lambda_o[0]\n",
    "    for i in range(ndx):\n",
    "        for j in range(ndy):\n",
    "            if Qo[0][i][j] == 0:\n",
    "                BHPo[0][i][j] = 0\n",
    "            if BHPw[0][i][j] == 0:\n",
    "                Qw[0][i][j] = 0\n",
    "if IBo == 2 and IBw == 1:\n",
    "    BHPw = Pw[0] + Qw[0] / Jw\n",
    "    Qo[0] = (-Jo) * (Po[0] + BHPo)\n",
    "    Qwo = (-Jow) * (Pw[0] - BHPo)\n",
    "    for i in range(ndx):\n",
    "        for j in range(ndy):\n",
    "            if BHPo[0][i][j] == 0:\n",
    "                Qo[0][i][j] = 0\n",
    "            if Qw[0][i][j] == 0:\n",
    "                BHPw[0][i][j] = 0\n",
    "if IBo == 2 and IBw == 2:\n",
    "    Qo[0] = (-Jo) * (Po[0] - BHPo)\n",
    "    Qw[0] = (Jw) * (-Pw[0] + BHPw)\n",
    "    Qwo = (-Jow) * (Pw[0] - BHPo)\n",
    "    for i in range(ndx):\n",
    "        for j in range(ndy):\n",
    "            if BHPo[0][i][j] == 0:\n",
    "                Qo[0][i][j] = 0\n",
    "            if BHPw[0][i][j] == 0:\n",
    "                Qw[0][i][j] = 0\n"
   ]
  },
  {
   "cell_type": "code",
   "execution_count": 37,
   "id": "38a1e39f-57f2-46c7-b2f5-247cc991d4df",
   "metadata": {},
   "outputs": [
    {
     "data": {
      "text/plain": [
       "array([[0., 0., 0., 0., 0., 0., 0., 0., 0., 0.],\n",
       "       [0., 0., 0., 0., 0., 0., 0., 0., 0., 0.],\n",
       "       [0., 0., 0., 0., 0., 0., 0., 0., 0., 0.],\n",
       "       [0., 0., 0., 0., 0., 0., 0., 0., 0., 0.],\n",
       "       [0., 0., 0., 0., 0., 0., 0., 0., 0., 0.],\n",
       "       [0., 0., 0., 0., 0., 0., 0., 0., 0., 0.],\n",
       "       [0., 0., 0., 0., 0., 0., 0., 0., 0., 0.],\n",
       "       [0., 0., 0., 0., 0., 0., 0., 0., 0., 0.],\n",
       "       [0., 0., 0., 0., 0., 0., 0., 0., 0., 0.],\n",
       "       [0., 0., 0., 0., 0., 0., 0., 0., 0., 0.]])"
      ]
     },
     "execution_count": 37,
     "metadata": {},
     "output_type": "execute_result"
    }
   ],
   "source": [
    "Qo[0]"
   ]
  },
  {
   "cell_type": "code",
   "execution_count": null,
   "id": "2e5e42b9-006e-44e9-bceb-23559cea9a4c",
   "metadata": {},
   "outputs": [],
   "source": []
  }
 ],
 "metadata": {
  "kernelspec": {
   "display_name": "Python 3 (ipykernel)",
   "language": "python",
   "name": "python3"
  },
  "language_info": {
   "codemirror_mode": {
    "name": "ipython",
    "version": 3
   },
   "file_extension": ".py",
   "mimetype": "text/x-python",
   "name": "python",
   "nbconvert_exporter": "python",
   "pygments_lexer": "ipython3",
   "version": "3.8.11"
  }
 },
 "nbformat": 4,
 "nbformat_minor": 5
}
