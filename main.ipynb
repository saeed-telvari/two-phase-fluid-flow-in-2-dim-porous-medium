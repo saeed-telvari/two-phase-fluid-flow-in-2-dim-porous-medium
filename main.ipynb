{
 "cells": [
  {
   "cell_type": "code",
   "execution_count": 1,
   "id": "ee1e947d-bd0b-4f43-9543-391851d29fdf",
   "metadata": {},
   "outputs": [],
   "source": [
    "import numpy as np\n",
    "import pandas as pd\n",
    "import constants\n",
    "import functions\n",
    "from functions import *\n",
    "from constants import *\n",
    "from importlib import reload"
   ]
  },
  {
   "cell_type": "code",
   "execution_count": 2,
   "id": "2b62ce41-45d7-48a0-a75b-1c1169b29569",
   "metadata": {},
   "outputs": [],
   "source": [
    "consants = reload(constants)\n",
    "functions = reload(functions)"
   ]
  },
  {
   "cell_type": "code",
   "execution_count": 3,
   "id": "2a1e5414-7299-46ed-a3fa-8b0fc4d180f6",
   "metadata": {},
   "outputs": [],
   "source": [
    "Po = np.zeros([ndt+1, ndx, ndy])\n",
    "Pw = np.zeros([ndt+1, ndx, ndy])\n",
    "Po[0] = Poi"
   ]
  },
  {
   "cell_type": "code",
   "execution_count": 4,
   "id": "d92d3450-639d-4cdf-b4aa-247e71ae2d75",
   "metadata": {},
   "outputs": [],
   "source": [
    "Qo = np.zeros([ndt+1, ndx, ndy])\n",
    "Qw = np.zeros([ndt+1, ndx, ndy])\n",
    "Qo[0] = qo\n",
    "Qw[0] = qw"
   ]
  },
  {
   "cell_type": "code",
   "execution_count": 5,
   "id": "5d86be0c-0764-4b19-9f77-dd955b48d578",
   "metadata": {},
   "outputs": [],
   "source": [
    "S_wr = 0.2\n",
    "S_or = 0.1\n",
    "S_wi = 0.2"
   ]
  },
  {
   "cell_type": "code",
   "execution_count": 6,
   "id": "47546b3d-e723-4ce7-841a-16f3f8b3958e",
   "metadata": {},
   "outputs": [],
   "source": [
    "S_w = np.zeros([ndt+1, ndx, ndy])\n",
    "S_o = np.zeros([ndt+1, ndx, ndy])\n",
    "S_w[0] = S_wi\n",
    "S_o[0] = 1 - S_wi"
   ]
  },
  {
   "cell_type": "code",
   "execution_count": 7,
   "id": "b7e2d310-aae4-42c0-b1df-ac0bb28f957d",
   "metadata": {},
   "outputs": [],
   "source": [
    "PHI = np.zeros([ndt, ndx, ndy])\n",
    "Pc = np.zeros([ndt, ndx, ndy])\n",
    "dPc = np.zeros([ndt, ndx, ndy])\n",
    "dBo = np.zeros([ndt, ndx, ndy])\n",
    "dBw = np.zeros([ndt, ndx, ndy])\n",
    "ToW = np.zeros([ndt, ndx, ndy])\n",
    "ToE = np.zeros([ndt, ndx, ndy])\n",
    "ToN = np.zeros([ndt, ndx, ndy])\n",
    "ToS = np.zeros([ndt, ndx, ndy])\n",
    "TwW = np.zeros([ndt, ndx, ndy])\n",
    "TwE = np.zeros([ndt, ndx, ndy])\n",
    "TwN = np.zeros([ndt, ndx, ndy])\n",
    "TwS = np.zeros([ndt, ndx, ndy])\n",
    "Cpoo = np.zeros([ndt, ndx, ndy])\n",
    "Cpow = np.zeros([ndt, ndx, ndy])\n",
    "Cswo = np.zeros([ndt, ndx, ndy])\n",
    "Csww = np.zeros([ndt, ndx, ndy])\n",
    "Alpha = np.zeros([ndt, ndx, ndy])\n",
    "Vis_o = np.zeros([ndt, ndx, ndy])\n",
    "Vis_w = np.zeros([ndt, ndx, ndy])\n",
    "Bo = np.zeros([ndt, ndx, ndy])\n",
    "Bw = np.zeros([ndt, ndx, ndy])\n",
    "t = 0"
   ]
  },
  {
   "cell_type": "code",
   "execution_count": 8,
   "id": "c32d1640-495c-4e70-b393-68e173d24095",
   "metadata": {},
   "outputs": [],
   "source": [
    "Pc[0], dPc[0] = capillary_pressure(S_wr, S_or, S_w[0], ndx, ndy)\n",
    "\n",
    "Pw[0] = Po[0] - Pc[0]"
   ]
  },
  {
   "cell_type": "code",
   "execution_count": 9,
   "id": "3d455a9d-9386-4af8-9219-15f6393911a3",
   "metadata": {},
   "outputs": [],
   "source": [
    "Vis_o[0], Vis_w[0] = viscosity(Po[0], Pw[0], ndx, ndy)"
   ]
  },
  {
   "cell_type": "code",
   "execution_count": 10,
   "id": "ef6bdb1e-ba2d-44ca-8988-f595ef99c372",
   "metadata": {},
   "outputs": [],
   "source": [
    "Bo[0], Bw[0], dBo[0], dBw[0] = FVF(Po, Pw, Bo_0, Bw_0, Co, Cw, P_0, ndx, ndy, t)\n",
    "Kr_o[0], Kr_w[0] = relative_permeability(S_wr, S_or, S_w[0], ndx, ndy)\n",
    "lambda_o, lambda_w = mobility(BCW, BCE, BCN, BCS, Kr_o, Kr_w, Vis_o, Vis_w, Bo, Bw, Po[0], Pw[0], ndx, ndy)"
   ]
  },
  {
   "cell_type": "code",
   "execution_count": 11,
   "id": "056a5cc9-1ea8-4465-a759-bad0fef10a99",
   "metadata": {},
   "outputs": [
    {
     "name": "stderr",
     "output_type": "stream",
     "text": [
      "/tmp/ipykernel_4248/2077796487.py:1: RuntimeWarning: divide by zero encountered in true_divide\n",
      "  Jo = 2 * 3.14 * 1.127 * np.multiply(Kx, dz, lambda_o[0]) / (np.log(r_eq/rw_o) + S_o[0])\n",
      "/tmp/ipykernel_4248/2077796487.py:2: RuntimeWarning: divide by zero encountered in true_divide\n",
      "  Jw = 2 * 3.14 * 1.127 * Kx * dz * (Bo / Bw * lambda_o[0] + lambda_w[0]) / (np.log(r_eq/rw_w) + S_w[0])\n",
      "/tmp/ipykernel_4248/2077796487.py:3: RuntimeWarning: divide by zero encountered in true_divide\n",
      "  Jow = 2 * 3.14 * 1.127 * np.multiply(Kx, dz, lambda_w[0]) / (np.log(r_eq/rw_o) + S_o[0])\n"
     ]
    }
   ],
   "source": [
    "Jo = 2 * 3.14 * 1.127 * np.multiply(Kx, dz, lambda_o[0]) / (np.log(r_eq/rw_o) + S_o[0])\n",
    "Jw = 2 * 3.14 * 1.127 * Kx * dz * (Bo / Bw * lambda_o[0] + lambda_w[0]) / (np.log(r_eq/rw_w) + S_w[0])\n",
    "Jow = 2 * 3.14 * 1.127 * np.multiply(Kx, dz, lambda_w[0]) / (np.log(r_eq/rw_o) + S_o[0])"
   ]
  },
  {
   "cell_type": "code",
   "execution_count": 12,
   "id": "76840174-eb79-4899-90c7-7f90bd27dfaf",
   "metadata": {},
   "outputs": [
    {
     "name": "stderr",
     "output_type": "stream",
     "text": [
      "/tmp/ipykernel_4248/2161056674.py:22: RuntimeWarning: invalid value encountered in true_divide\n",
      "  BHPw[0] = Pw[0] + Qw[0] / Jw\n"
     ]
    }
   ],
   "source": [
    "if IBo == 1 and IBw == 1:\n",
    "    BHPo[0] = Po[0] + Qo[0] / Jo\n",
    "    BHPw[0] = Pw[0] + Qw[0] / Jw\n",
    "    Qwo = Qo[0] * lambda_w[0] / lambda_o[0]\n",
    "    for i in range(ndx):\n",
    "        for j in range(ndy):\n",
    "            if Qo[0][i][j] == 0:\n",
    "                BHPo[0][i][j] = 0\n",
    "            if Qw[0][i][j] == 0:\n",
    "                BHPw[0][i][j] = 0\n",
    "elif IBo == 1 and IBw == 2:\n",
    "    BHPo[0] = Po[0] + Qo[0] / Jo\n",
    "    Qw[0] = Jw * (-Pw[0] + BHPw[0])\n",
    "    Qwo = Qo[0] * lambda_w[0] / lambda_o[0]\n",
    "    for i in range(ndx):\n",
    "        for j in range(ndy):\n",
    "            if Qo[0][i][j] == 0:\n",
    "                BHPo[0][i][j] = 0\n",
    "            if BHPw[0][i][j] == 0:\n",
    "                Qw[0][i][j] = 0\n",
    "elif IBo == 2 and IBw == 1:\n",
    "    BHPw[0] = Pw[0] + Qw[0] / Jw\n",
    "    Qo[0] = (-Jo) * (Po[0] + BHPo[0])\n",
    "    Qwo = (-Jow) * (Pw[0] - BHPo[0])\n",
    "    for i in range(ndx):\n",
    "        for j in range(ndy):\n",
    "            if BHPo[0][i][j] == 0:\n",
    "                Qo[0][i][j] = 0\n",
    "            if Qw[0][i][j] == 0:\n",
    "                BHPw[0][i][j] = 0\n",
    "elif IBo == 2 and IBw == 2:\n",
    "    Qo[0] = (-Jo) * (Po[0] - BHPo[0])\n",
    "    Qw[0] = (Jw) * (-Pw[0] + BHPw[0])\n",
    "    Qwo = (-Jow) * (Pw[0] - BHPo[0])\n",
    "    for i in range(ndx):\n",
    "        for j in range(ndy):\n",
    "            if BHPo[0][i][j] == 0:\n",
    "                Qo[0][i][j] = 0\n",
    "            if BHPw[0][i][j] == 0:\n",
    "                Qw[0][i][j] = 0\n"
   ]
  },
  {
   "cell_type": "code",
   "execution_count": 13,
   "id": "2e5e42b9-006e-44e9-bceb-23559cea9a4c",
   "metadata": {},
   "outputs": [],
   "source": [
    "A = np.zeros([ndt+1, ndx*ndy, ndx*ndy])\n",
    "b = np.zeros([ndt, ndx*ndy])"
   ]
  },
  {
   "cell_type": "code",
   "execution_count": 17,
   "id": "38e4fe53-ddf2-45c2-aa09-6214d3e811f7",
   "metadata": {},
   "outputs": [
    {
     "name": "stdout",
     "output_type": "stream",
     "text": [
      "1\n"
     ]
    },
    {
     "ename": "ValueError",
     "evalue": "could not broadcast input array from shape (10,10) into shape (10)",
     "output_type": "error",
     "traceback": [
      "\u001b[0;31m---------------------------------------------------------------------------\u001b[0m",
      "\u001b[0;31mValueError\u001b[0m                                Traceback (most recent call last)",
      "\u001b[0;32m/tmp/ipykernel_4248/521026335.py\u001b[0m in \u001b[0;36m<module>\u001b[0;34m\u001b[0m\n\u001b[1;32m      5\u001b[0m     \u001b[0mPHI\u001b[0m\u001b[0;34m[\u001b[0m\u001b[0mn\u001b[0m\u001b[0;34m-\u001b[0m\u001b[0;36m1\u001b[0m\u001b[0;34m]\u001b[0m \u001b[0;34m=\u001b[0m \u001b[0mporosity\u001b[0m\u001b[0;34m(\u001b[0m\u001b[0mPo\u001b[0m\u001b[0;34m[\u001b[0m\u001b[0mn\u001b[0m\u001b[0;34m]\u001b[0m\u001b[0;34m,\u001b[0m \u001b[0mCf\u001b[0m\u001b[0;34m,\u001b[0m \u001b[0mporosity_0\u001b[0m\u001b[0;34m,\u001b[0m \u001b[0mP_0\u001b[0m\u001b[0;34m,\u001b[0m \u001b[0mndx\u001b[0m\u001b[0;34m,\u001b[0m \u001b[0mndy\u001b[0m\u001b[0;34m)\u001b[0m\u001b[0;34m\u001b[0m\u001b[0;34m\u001b[0m\u001b[0m\n\u001b[1;32m      6\u001b[0m     \u001b[0m_\u001b[0m\u001b[0;34m,\u001b[0m \u001b[0mdPc\u001b[0m \u001b[0;34m=\u001b[0m \u001b[0mcapillary_pressure\u001b[0m\u001b[0;34m(\u001b[0m\u001b[0mS_wr\u001b[0m\u001b[0;34m,\u001b[0m \u001b[0mS_or\u001b[0m\u001b[0;34m,\u001b[0m \u001b[0mS_w\u001b[0m\u001b[0;34m[\u001b[0m\u001b[0mn\u001b[0m\u001b[0;34m]\u001b[0m\u001b[0;34m,\u001b[0m \u001b[0mndx\u001b[0m\u001b[0;34m,\u001b[0m \u001b[0mndy\u001b[0m\u001b[0;34m)\u001b[0m\u001b[0;34m\u001b[0m\u001b[0;34m\u001b[0m\u001b[0m\n\u001b[0;32m----> 7\u001b[0;31m     \u001b[0mVis_o\u001b[0m\u001b[0;34m[\u001b[0m\u001b[0mn\u001b[0m\u001b[0;34m]\u001b[0m\u001b[0;34m,\u001b[0m \u001b[0mVis_w\u001b[0m\u001b[0;34m[\u001b[0m\u001b[0mn\u001b[0m\u001b[0;34m]\u001b[0m \u001b[0;34m=\u001b[0m \u001b[0mviscosity\u001b[0m\u001b[0;34m(\u001b[0m\u001b[0mPo\u001b[0m\u001b[0;34m[\u001b[0m\u001b[0mn\u001b[0m\u001b[0;34m]\u001b[0m\u001b[0;34m,\u001b[0m \u001b[0mPw\u001b[0m\u001b[0;34m[\u001b[0m\u001b[0mn\u001b[0m\u001b[0;34m]\u001b[0m\u001b[0;34m,\u001b[0m \u001b[0mndx\u001b[0m\u001b[0;34m,\u001b[0m \u001b[0mndy\u001b[0m\u001b[0;34m)\u001b[0m\u001b[0;34m\u001b[0m\u001b[0;34m\u001b[0m\u001b[0m\n\u001b[0m",
      "\u001b[0;31mValueError\u001b[0m: could not broadcast input array from shape (10,10) into shape (10)"
     ]
    }
   ],
   "source": [
    "for n in range(1, 3):\n",
    "    t += dt\n",
    "    print(n)\n",
    "    \n",
    "    PHI[n-1] = porosity(Po[n], Cf, porosity_0, P_0, ndx, ndy)\n",
    "    Pc[n], dPc[n] = capillary_pressure(S_wr, S_or, S_w[n], ndx, ndy)\n",
    "    Vis_o[n], Vis_w[n] = viscosity(Po[n], Pw[n], ndx, ndy)\n",
    "    Bo[n], Bw[n], dBo[n], dBw[n] = FVF(Po[n], Pw[n], Bo_0, Bw_0, Co, Cw, P_0, ndx, ndy, t)\n",
    "    Kr_o[n], Kr_w[n] = relative_permeability(S_wr, S_or, S_w[n], ndx, ndy)\n",
    "    lambda_o, lambda_w = mobility(BCW, BCE, BCN, BCS, Kr_o[n], Kr_w[n],\\\n",
    "                                  Vis_o[n], Vis_w[n], Bo[n], Bw[n], Po[n], Pw[n], ndx, ndy)\n",
    "    lambda_o_west, lambda_o_east, lambda_o_north, lambda_o_south = \\\n",
    "                        lambda_o[1], lambda_o[2], lambda_o[3], lambda_o[4]\n",
    "    lambda_w_west, lambda_w_east, lambda_w_north, lambda_w_south = \\\n",
    "                        lambda_w[1], lambda_w[2], lambda_w[3], lambda_w[4]\n",
    "    \n",
    "    ToW[n-1] = 1.127 * HW * lambda_o_west\n",
    "    ToE[n-1] = 1.127 * HE * lambda_o_east\n",
    "    ToN[n-1] = 1.127 * HN * lambda_o_north\n",
    "    ToS[n-1] = 1.127 * HS * lambda_o_south\n",
    "    TwW[n-1] = 1.127 * HW * lambda_w_west\n",
    "    TwE[n-1] = 1.127 * HE * lambda_w_east\n",
    "    TwN[n-1] = 1.127 * HN * lambda_w_north\n",
    "    TwS[n-1] = 1.127 * HS * lambda_w_south\n",
    "\n",
    "    Cpoo[n-1] = dx * dy * dz * (1-S_w[n]) / (5.615 * dt) * (Cf * porosity_0 * np.power(Bo[n], -1) + dBo[n] * PHI[n])\n",
    "    Cpow[n-1] = dx * dy * dz * S_w[n] * / (5.615 * dt) * (Cf * porosity_0 * np.power(Bw[n], -1) + dBo[n] * PHI[n])\n",
    "    Cswo[n-1] = (-dx) * dy * dz * PHI[n-1] / (5.615 * dt * Bo[n])\n",
    "    Csww[n-1] = dx * dy * dz * PHI[n-1] / (5.615 * dt * Bw[n] - dPc[n] * Cpow[n-1])\n",
    "    alpha[n-1] = Cswo[n-1] / Csww[n-1]\n",
    "    for i in range(ndx):\n",
    "        for j in range(ndy):\n",
    "            # 1\n",
    "            if BCW == 100 and BCN == 100 and BCS == 100 and BCE == 100:\n",
    "                if IBo == 1 and IBw == 1:\n",
    "                    A[n][ndy*i + j + 1][ndy*i + j + 1] = \\\n",
    "                    (-ToW[n][i][j]) + ToN[n][i][j] + ToS[n][i][j] + ToE[n][i][j] + Cpoo[n][i][j] \\\n",
    "                    - alpha[n][i][j] * (TwW[n][i][j] + TwN[n][i][j] + TwS[n][i][j] + TwE[n][i][j]  + Cpow[n][i][j])\n",
    "                    \n",
    "                    b[n][ndy*i + j + 1] =  (-Qo[n][i][j]) + alpha[n][i][j] * (Qw[n][i][j] + Qo[n][i][j] * lambda_w[n][i][j] / lambda_o[n][i][j]) \\\n",
    "                    + (alpha[n][i][j] * Cpow[n][i][j] - Cpoo[n][i][j]) * Po[n][i][j] - alpha[n][i][j] * TwE[n][i][j] * Pc[n][i][j+1]\\\n",
    "                    + alpha[n][i][j] * (TwE[n][i][j] + TwW[n][i][j] + TwN[n][i][j] + TwS[n][i][j]) * Pc[n][i][j]\\\n",
    "                    - alpha[n][i][j] * TwW[n][i][j] * Pc[n][i][j-1] - alpha[n][i][j] * TwS[n][i][j] * Pc[n][i+1][j] - alpha[n][i][j] * TwN[n][i][j] * Pc[n][i-1][j]         \n",
    "                \n",
    "                elif IBo == 1 and IBw == 2:\n",
    "                    A[n][ndy*i + j + 1][ndy*i + j + 1] = \\\n",
    "                    (-ToW[n][i][j]) + ToN[n][i][j] + ToS[n][i][j] + ToE[n][i][j] + Cpoo[n][i][j] \\\n",
    "                    - alpha[n][i][j] * (TwW[n][i][j] + TwN[n][i][j] + TwS[n][i][j] + TwE[n][i][j]  + Cpow[n][i][j]) - alpha[n][i][j] * Jw[n][i][j]\n",
    "                    \n",
    "                    b[n][ndy*i + j + 1] =  (-Qo[n][i][j]) + alpha[n][i][j] * (Qo[n][i][j] * lambda_w[n][i][j] / lambda_o[n][i][j] + Jw[n][i][j] * (BHPw[n][i][j] + Pc[n][i][j])) \\\n",
    "                    + (alpha[n][i][j] * Cpow[n][i][j] - Cpoo[n][i][j]) * Po[n][i][j] - alpha[n][i][j] * TwE[n][i][j] * Pc[n][i][j+1]\\\n",
    "                    + alpha[n][i][j] * (TwE[n][i][j] + TwW[n][i][j] + TwN[n][i][j] + TwS[n][i][j]) * Pc[n][i][j]\\\n",
    "                    - alpha[n][i][j] * TwW[n][i][j] * Pc[n][i][j-1] - alpha[n][i][j] * TwS[n][i][j] * Pc[n][i+1][j] - alpha[n][i][j] * TwN[n][i][j] * Pc[n][i-1][j]\n",
    "                \n",
    "                elif IBo == 2 and IBw == 1:\n",
    "                    A[n][ndy*i + j + 1][ndy*i + j + 1] = \\\n",
    "                    (-ToW[n][i][j]) + ToN[n][i][j] + ToS[n][i][j] + ToE[n][i][j] + Cpoo[n][i][j] \\\n",
    "                    - alpha[n][i][j] * (TwW[n][i][j] + TwN[n][i][j] + TwS[n][i][j] + TwE[n][i][j]  + Cpow[n][i][j]) + Jo[n][i][j] - alpha[n][i][j] * Jow[n][i][j]\n",
    "                    \n",
    "                    b[n][ndy*i + j + 1] =  (-Jo[n][i][j]) * BHPo[n][i][j] + alpha[n][i][j] * (Qw[n][i][j] + Jow[n][i][j] * (Pc[n][i][j] + BHPo[n][i][j])) \\\n",
    "                    + (alpha[n][i][j] * Cpow[n][i][j] - Cpoo[n][i][j]) * Po[n][i][j] - alpha[n][i][j] * TwE[n][i][j] * Pc[n][i][j+1]\\\n",
    "                    + alpha[n][i][j] * (TwE[n][i][j] + TwW[n][i][j] + TwN[n][i][j] + TwS[n][i][j]) * Pc[n][i][j]\\\n",
    "                    - alpha[n][i][j] * TwW[n][i][j] * Pc[n][i][j-1] - alpha[n][i][j] * TwS[n][i][j] * Pc[n][i+1][j] - alpha[n][i][j] * TwN[n][i][j] * Pc[n][i-1][j] \n",
    "                \n",
    "                elif IBo == 2 and IBw == 2:\n",
    "                    A[n][ndy*i + j + 1][ndy*i + j + 1] = \\\n",
    "                    (-ToW[n][i][j]) + ToN[n][i][j] + ToS[n][i][j] + ToE[n][i][j] + Cpoo[n][i][j] \\\n",
    "                    - alpha[n][i][j] * (TwW[n][i][j] + TwN[n][i][j] + TwS[n][i][j] + TwE[n][i][j]  + Cpow[n][i][j]) - alpha[n][i][j] * Jw[n][i][j] + Jo[n][i][j] - alpha[n][i][j] * Jow[n][i][j]\n",
    "                    \n",
    "                    b[n][ndy*i + j + 1] =  (-Jo[n][i][j]) * BHPo[n][i][j] + alpha[n][i][j] * (Jw[n][i][j] * (BHPw[n][i][j] + Pc[n][i][j]) + Jow[n][i][j] * (Pc[n][i][j] + BHPo[n][i][j])) \\\n",
    "                    + (alpha[n][i][j] * Cpow[n][i][j] - Cpoo[n][i][j]) * Po[n][i][j] - alpha[n][i][j] * TwE[n][i][j] * Pc[n][i][j+1]\\\n",
    "                    + alpha[n][i][j] * (TwE[n][i][j] + TwW[n][i][j] + TwN[n][i][j] + TwS[n][i][j]) * Pc[n][i][j]\\\n",
    "                    - alpha[n][i][j] * TwW[n][i][j] * Pc[n][i][j-1] - alpha[n][i][j] * TwS[n][i][j] * Pc[n][i+1][j] - alpha[n][i][j] * TwN[n][i][j] * Pc[n][i-1][j]\n",
    "                A[n][ndy*i + j + 1][ndy*i + j] = ToW[n][i][j] - alpha[n][i][j] * TwW[n][i][j]\n",
    "                A[n][ndy*i + j + 1][ndy*i + j + 2] = ToE[n][i][j] - alpha[n][i][j] * TwE[n][i][j]\n",
    "                A[n][ndy*i + j + 1][ndy*i + j + ndy] = ToS[n][i][j] - alpha[n][i][j] * TwS[n][i][j]\n",
    "                A[n][ndy*i + j + 1][ndy*i + j - ndy] = ToN[n][i][j] - alpha[n][i][j] * TwN[n][i][j]\n",
    "            # 2\n",
    "            elif BCW < 100 and BCN == 100 and BCS == 100 and BCE == 100:\n",
    "                if IBo == 1 and IBw == 1:\n",
    "                    \n",
    "                elif IBo == 1 and IBw == 2:\n",
    "                    \n",
    "                elif IBo == 2 and IBw == 1:\n",
    "                    \n",
    "                elif IBo == 2 and IBw == 2:\n",
    "                    \n",
    "            # 3\n",
    "            elif BCW == 100 and BCN < 100 and BCS == 100 and BCE == 100:\n",
    "                if IBo == 1 and IBw == 1:\n",
    "                    \n",
    "                elif IBo == 1 and IBw == 2:\n",
    "                    \n",
    "                elif IBo == 2 and IBw == 1:\n",
    "                    \n",
    "                elif IBo == 2 and IBw == 2:\n",
    "                    \n",
    "            # 4\n",
    "            elif BCW == 100 and BCN == 100 and BCS < 100 and BCE == 100:\n",
    "                if IBo == 1 and IBw == 1:\n",
    "                    \n",
    "                elif IBo == 1 and IBw == 2:\n",
    "                    \n",
    "                elif IBo == 2 and IBw == 1:\n",
    "                    \n",
    "                elif IBo == 2 and IBw == 2:\n",
    "                    \n",
    "            # 5\n",
    "            elif BCW == 100 and BCN == 100 and BCS == 100 and BCE < 100:\n",
    "                if IBo == 1 and IBw == 1:\n",
    "                    \n",
    "                elif IBo == 1 and IBw == 2:\n",
    "                    \n",
    "                elif IBo == 2 and IBw == 1:\n",
    "                    \n",
    "                elif IBo == 2 and IBw == 2:\n",
    "                    \n",
    "            # 6\n",
    "            elif BCW < 100 and BCN < 100 and BCS == 100 and BCE == 100:\n",
    "                if IBo == 1 and IBw == 1:\n",
    "                    \n",
    "                elif IBo == 1 and IBw == 2:\n",
    "                    \n",
    "                elif IBo == 2 and IBw == 1:\n",
    "                    \n",
    "                elif IBo == 2 and IBw == 2:\n",
    "                    \n",
    "            # 7\n",
    "            elif BCW < 100 and BCN == 100 and BCS < 100 and BCE == 100:\n",
    "                if IBo == 1 and IBw == 1:\n",
    "                    \n",
    "                elif IBo == 1 and IBw == 2:\n",
    "                    \n",
    "                elif IBo == 2 and IBw == 1:\n",
    "                    \n",
    "                elif IBo == 2 and IBw == 2:\n",
    "                    \n",
    "            # 8\n",
    "            elif BCW == 100 and BCN < 100 and BCS == 100 and BCE < 100:\n",
    "                if IBo == 1 and IBw == 1:\n",
    "                    \n",
    "                elif IBo == 1 and IBw == 2:\n",
    "                    \n",
    "                elif IBo == 2 and IBw == 1:\n",
    "                    \n",
    "                elif IBo == 2 and IBw == 2:\n",
    "                    \n",
    "            # 9\n",
    "            elif BCW == 100 and BCN == 100 and BCS < 100 and BCE < 100:\n",
    "                if IBo == 1 and IBw == 1:\n",
    "                    \n",
    "                elif IBo == 1 and IBw == 2:\n",
    "                    \n",
    "                elif IBo == 2 and IBw == 1:\n",
    "                    \n",
    "                elif IBo == 2 and IBw == 2:\n",
    "    "
   ]
  },
  {
   "cell_type": "code",
   "execution_count": null,
   "id": "2e61690a-ff46-475d-a0bc-c1219e0202b7",
   "metadata": {},
   "outputs": [],
   "source": []
  },
  {
   "cell_type": "code",
   "execution_count": null,
   "id": "08ad5203-d75a-4a3d-9461-63da0199c6a3",
   "metadata": {},
   "outputs": [],
   "source": []
  },
  {
   "cell_type": "code",
   "execution_count": null,
   "id": "6374f2db-b410-4284-9b9b-0fa3c9a8e214",
   "metadata": {},
   "outputs": [],
   "source": []
  }
 ],
 "metadata": {
  "kernelspec": {
   "display_name": "Python 3 (ipykernel)",
   "language": "python",
   "name": "python3"
  },
  "language_info": {
   "codemirror_mode": {
    "name": "ipython",
    "version": 3
   },
   "file_extension": ".py",
   "mimetype": "text/x-python",
   "name": "python",
   "nbconvert_exporter": "python",
   "pygments_lexer": "ipython3",
   "version": "3.8.11"
  }
 },
 "nbformat": 4,
 "nbformat_minor": 5
}
