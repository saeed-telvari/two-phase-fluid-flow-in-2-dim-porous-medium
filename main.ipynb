{
 "cells": [
  {
   "cell_type": "code",
   "execution_count": 52,
   "id": "ee1e947d-bd0b-4f43-9543-391851d29fdf",
   "metadata": {},
   "outputs": [],
   "source": [
    "import numpy as np\n",
    "import pandas as pd\n",
    "import constants\n",
    "from functions import *\n",
    "from constants import *\n",
    "from importlib import reload"
   ]
  },
  {
   "cell_type": "code",
   "execution_count": 53,
   "id": "2b62ce41-45d7-48a0-a75b-1c1169b29569",
   "metadata": {},
   "outputs": [],
   "source": [
    "consants = reload(constants)\n",
    "functions = reload(functions)"
   ]
  },
  {
   "cell_type": "code",
   "execution_count": 34,
   "id": "2a1e5414-7299-46ed-a3fa-8b0fc4d180f6",
   "metadata": {},
   "outputs": [],
   "source": [
    "Po = np.zeros([ndt+1, ndx, ndy])\n",
    "Pw = np.zeros([ndt+1, ndx, ndy])\n",
    "Po[0] = Poi"
   ]
  },
  {
   "cell_type": "code",
   "execution_count": 35,
   "id": "d92d3450-639d-4cdf-b4aa-247e71ae2d75",
   "metadata": {},
   "outputs": [],
   "source": [
    "Qo = np.zeros([ndt+1, ndx, ndy])\n",
    "Qw = np.zeros([ndt+1, ndx, ndy])\n",
    "Qo[0] = qo\n",
    "Qw[0] = qw"
   ]
  },
  {
   "cell_type": "code",
   "execution_count": 36,
   "id": "5d86be0c-0764-4b19-9f77-dd955b48d578",
   "metadata": {},
   "outputs": [],
   "source": [
    "S_wr = 0.2\n",
    "S_or = 0.1\n",
    "S_wi = 0.2"
   ]
  },
  {
   "cell_type": "code",
   "execution_count": 37,
   "id": "47546b3d-e723-4ce7-841a-16f3f8b3958e",
   "metadata": {},
   "outputs": [],
   "source": [
    "S_w = np.zeros([ndt+1, ndx, ndy])\n",
    "S_o = np.zeros([ndt+1, ndx, ndy])\n",
    "S_w[0] = S_wi\n",
    "S_o[0] = 1 - S_wi"
   ]
  },
  {
   "cell_type": "code",
   "execution_count": 55,
   "id": "b7e2d310-aae4-42c0-b1df-ac0bb28f957d",
   "metadata": {},
   "outputs": [],
   "source": [
    "PHI = np.zeros([ndt, ndx, ndy])\n",
    "Pc = np.zeros([ndt, ndx, ndy])\n",
    "dPc = np.zeros([ndt, ndx, ndy])\n",
    "dBo = np.zeros([ndt, ndx, ndy])\n",
    "dBw = np.zeros([ndt, ndx, ndy])\n",
    "ToW = np.zeros([ndt, ndx, ndy])\n",
    "ToE = np.zeros([ndt, ndx, ndy])\n",
    "ToN = np.zeros([ndt, ndx, ndy])\n",
    "ToS = np.zeros([ndt, ndx, ndy])\n",
    "TwW = np.zeros([ndt, ndx, ndy])\n",
    "TwE = np.zeros([ndt, ndx, ndy])\n",
    "TwN = np.zeros([ndt, ndx, ndy])\n",
    "TwS = np.zeros([ndt, ndx, ndy])\n",
    "Cpoo = np.zeros([ndt, ndx, ndy])\n",
    "Cpow = np.zeros([ndt, ndx, ndy])\n",
    "Cswo = np.zeros([ndt, ndx, ndy])\n",
    "Csww = np.zeros([ndt, ndx, ndy])\n",
    "Alpha = np.zeros([ndt, ndx, ndy])\n",
    "Viso = np.zeros([ndt, ndx, ndy])\n",
    "Visw = np.zeros([ndt, ndx, ndy])\n",
    "Bo = np.zeros([ndt, ndx, ndy])\n",
    "Bw = np.zeros([ndt, ndx, ndy])\n",
    "t = 0"
   ]
  },
  {
   "cell_type": "code",
   "execution_count": 56,
   "id": "c32d1640-495c-4e70-b393-68e173d24095",
   "metadata": {},
   "outputs": [],
   "source": [
    "Pc[0], _ = capillary_pressure(S_wr, S_or, S_w[0], ndx, ndy)\n",
    "\n",
    "Pw[0] = Po[0] - Pc[0]"
   ]
  },
  {
   "cell_type": "code",
   "execution_count": 57,
   "id": "3d455a9d-9386-4af8-9219-15f6393911a3",
   "metadata": {},
   "outputs": [],
   "source": [
    "Vis_o, Vis_w = viscosity(Po[0], Pw[0], ndx, ndy)"
   ]
  },
  {
   "cell_type": "code",
   "execution_count": 69,
   "id": "ef6bdb1e-ba2d-44ca-8988-f595ef99c372",
   "metadata": {},
   "outputs": [
    {
     "ename": "ValueError",
     "evalue": "setting an array element with a sequence.",
     "output_type": "error",
     "traceback": [
      "\u001b[0;31m---------------------------------------------------------------------------\u001b[0m",
      "\u001b[0;31mTypeError\u001b[0m                                 Traceback (most recent call last)",
      "\u001b[0;31mTypeError\u001b[0m: only size-1 arrays can be converted to Python scalars",
      "\nThe above exception was the direct cause of the following exception:\n",
      "\u001b[0;31mValueError\u001b[0m                                Traceback (most recent call last)",
      "\u001b[0;32m/tmp/ipykernel_537/2211565898.py\u001b[0m in \u001b[0;36m<module>\u001b[0;34m\u001b[0m\n\u001b[1;32m      1\u001b[0m \u001b[0mBo\u001b[0m\u001b[0;34m,\u001b[0m \u001b[0mBw\u001b[0m\u001b[0;34m,\u001b[0m \u001b[0mdBo\u001b[0m\u001b[0;34m,\u001b[0m \u001b[0mdBw\u001b[0m \u001b[0;34m=\u001b[0m \u001b[0mFVF\u001b[0m\u001b[0;34m(\u001b[0m\u001b[0mPo\u001b[0m\u001b[0;34m,\u001b[0m \u001b[0mPw\u001b[0m\u001b[0;34m,\u001b[0m \u001b[0mBo_0\u001b[0m\u001b[0;34m,\u001b[0m \u001b[0mBw_0\u001b[0m\u001b[0;34m,\u001b[0m \u001b[0mCo\u001b[0m\u001b[0;34m,\u001b[0m \u001b[0mCw\u001b[0m\u001b[0;34m,\u001b[0m \u001b[0mP_0\u001b[0m\u001b[0;34m,\u001b[0m \u001b[0mndx\u001b[0m\u001b[0;34m,\u001b[0m \u001b[0mndy\u001b[0m\u001b[0;34m,\u001b[0m \u001b[0mt\u001b[0m\u001b[0;34m)\u001b[0m\u001b[0;34m\u001b[0m\u001b[0;34m\u001b[0m\u001b[0m\n\u001b[0;32m----> 2\u001b[0;31m \u001b[0mKr_o\u001b[0m\u001b[0;34m,\u001b[0m \u001b[0mKr_w\u001b[0m \u001b[0;34m=\u001b[0m \u001b[0mrelative_permeability\u001b[0m\u001b[0;34m(\u001b[0m\u001b[0mS_wr\u001b[0m\u001b[0;34m,\u001b[0m \u001b[0mS_or\u001b[0m\u001b[0;34m,\u001b[0m \u001b[0mS_w\u001b[0m\u001b[0;34m[\u001b[0m\u001b[0;36m0\u001b[0m\u001b[0;34m]\u001b[0m\u001b[0;34m,\u001b[0m \u001b[0mndx\u001b[0m\u001b[0;34m,\u001b[0m \u001b[0mndy\u001b[0m\u001b[0;34m)\u001b[0m\u001b[0;34m\u001b[0m\u001b[0;34m\u001b[0m\u001b[0m\n\u001b[0m\u001b[1;32m      3\u001b[0m \u001b[0mlambda_o\u001b[0m\u001b[0;34m,\u001b[0m \u001b[0mlambda_w\u001b[0m \u001b[0;34m=\u001b[0m \u001b[0mmobility\u001b[0m\u001b[0;34m(\u001b[0m\u001b[0mBCW\u001b[0m\u001b[0;34m,\u001b[0m \u001b[0mBCE\u001b[0m\u001b[0;34m,\u001b[0m \u001b[0mBCN\u001b[0m\u001b[0;34m,\u001b[0m \u001b[0mBCS\u001b[0m\u001b[0;34m,\u001b[0m \u001b[0mKr_o\u001b[0m\u001b[0;34m[\u001b[0m\u001b[0;36m0\u001b[0m\u001b[0;34m]\u001b[0m\u001b[0;34m,\u001b[0m \u001b[0mKr_w\u001b[0m\u001b[0;34m[\u001b[0m\u001b[0;36m0\u001b[0m\u001b[0;34m]\u001b[0m\u001b[0;34m,\u001b[0m \u001b[0mVis_o\u001b[0m\u001b[0;34m[\u001b[0m\u001b[0;36m0\u001b[0m\u001b[0;34m]\u001b[0m\u001b[0;34m,\u001b[0m \u001b[0mVis_w\u001b[0m\u001b[0;34m[\u001b[0m\u001b[0;36m0\u001b[0m\u001b[0;34m]\u001b[0m\u001b[0;34m,\u001b[0m \u001b[0mBo\u001b[0m\u001b[0;34m[\u001b[0m\u001b[0;36m0\u001b[0m\u001b[0;34m]\u001b[0m\u001b[0;34m,\u001b[0m \u001b[0mBw\u001b[0m\u001b[0;34m[\u001b[0m\u001b[0;36m0\u001b[0m\u001b[0;34m]\u001b[0m\u001b[0;34m,\u001b[0m \u001b[0mPo\u001b[0m\u001b[0;34m[\u001b[0m\u001b[0;36m0\u001b[0m\u001b[0;34m]\u001b[0m\u001b[0;34m,\u001b[0m \u001b[0mPw\u001b[0m\u001b[0;34m[\u001b[0m\u001b[0;36m0\u001b[0m\u001b[0;34m]\u001b[0m\u001b[0;34m,\u001b[0m \u001b[0mndx\u001b[0m\u001b[0;34m,\u001b[0m \u001b[0mndy\u001b[0m\u001b[0;34m)\u001b[0m\u001b[0;34m\u001b[0m\u001b[0;34m\u001b[0m\u001b[0m\n",
      "\u001b[0;32m/mnt/c/Users/Sa'eed/two-phase-fluid-flow-in-2-dim-porous-medium/functions.py\u001b[0m in \u001b[0;36mrelative_permeability\u001b[0;34m(S_wr, S_or, S_w, ndx, ndy)\u001b[0m\n\u001b[1;32m     29\u001b[0m         \u001b[0;32mfor\u001b[0m \u001b[0mj\u001b[0m \u001b[0;32min\u001b[0m \u001b[0mrange\u001b[0m\u001b[0;34m(\u001b[0m\u001b[0mndy\u001b[0m\u001b[0;34m)\u001b[0m\u001b[0;34m:\u001b[0m\u001b[0;34m\u001b[0m\u001b[0;34m\u001b[0m\u001b[0m\n\u001b[1;32m     30\u001b[0m             \u001b[0mS_we\u001b[0m\u001b[0;34m[\u001b[0m\u001b[0mi\u001b[0m\u001b[0;34m]\u001b[0m\u001b[0;34m[\u001b[0m\u001b[0mj\u001b[0m\u001b[0;34m]\u001b[0m \u001b[0;34m=\u001b[0m \u001b[0;34m(\u001b[0m\u001b[0mS_w\u001b[0m\u001b[0;34m[\u001b[0m\u001b[0mi\u001b[0m\u001b[0;34m]\u001b[0m\u001b[0;34m[\u001b[0m\u001b[0mj\u001b[0m\u001b[0;34m]\u001b[0m \u001b[0;34m-\u001b[0m \u001b[0mS_wr\u001b[0m\u001b[0;34m)\u001b[0m \u001b[0;34m/\u001b[0m \u001b[0;34m(\u001b[0m\u001b[0;36m1\u001b[0m \u001b[0;34m-\u001b[0m \u001b[0mS_or\u001b[0m \u001b[0;34m-\u001b[0m \u001b[0mS_wr\u001b[0m\u001b[0;34m)\u001b[0m\u001b[0;34m\u001b[0m\u001b[0;34m\u001b[0m\u001b[0m\n\u001b[0;32m---> 31\u001b[0;31m             \u001b[0mKr_o\u001b[0m\u001b[0;34m[\u001b[0m\u001b[0mi\u001b[0m\u001b[0;34m]\u001b[0m\u001b[0;34m[\u001b[0m\u001b[0mj\u001b[0m\u001b[0;34m]\u001b[0m \u001b[0;34m=\u001b[0m \u001b[0;36m0.9\u001b[0m \u001b[0;34m*\u001b[0m \u001b[0mnp\u001b[0m\u001b[0;34m.\u001b[0m\u001b[0mpower\u001b[0m\u001b[0;34m(\u001b[0m\u001b[0;36m1\u001b[0m\u001b[0;34m-\u001b[0m\u001b[0mS_we\u001b[0m\u001b[0;34m,\u001b[0m \u001b[0;36m2\u001b[0m\u001b[0;34m)\u001b[0m\u001b[0;34m\u001b[0m\u001b[0;34m\u001b[0m\u001b[0m\n\u001b[0m\u001b[1;32m     32\u001b[0m             \u001b[0mKr_w\u001b[0m\u001b[0;34m[\u001b[0m\u001b[0mi\u001b[0m\u001b[0;34m]\u001b[0m\u001b[0;34m[\u001b[0m\u001b[0mj\u001b[0m\u001b[0;34m]\u001b[0m \u001b[0;34m=\u001b[0m \u001b[0;36m0.6\u001b[0m \u001b[0;34m*\u001b[0m \u001b[0mnp\u001b[0m\u001b[0;34m.\u001b[0m\u001b[0mpower\u001b[0m\u001b[0;34m(\u001b[0m\u001b[0mS_we\u001b[0m\u001b[0;34m,\u001b[0m \u001b[0;36m2\u001b[0m\u001b[0;34m)\u001b[0m\u001b[0;34m\u001b[0m\u001b[0;34m\u001b[0m\u001b[0m\n\u001b[1;32m     33\u001b[0m     \u001b[0;32mreturn\u001b[0m \u001b[0mKr_o\u001b[0m\u001b[0;34m,\u001b[0m \u001b[0mKr_w\u001b[0m\u001b[0;34m\u001b[0m\u001b[0;34m\u001b[0m\u001b[0m\n",
      "\u001b[0;31mValueError\u001b[0m: setting an array element with a sequence."
     ]
    }
   ],
   "source": [
    "Bo, Bw, dBo, dBw = FVF(Po, Pw, Bo_0, Bw_0, Co, Cw, P_0, ndx, ndy, t)\n",
    "Kr_o, Kr_w = relative_permeability(S_wr, S_or, S_w[0], ndx, ndy)\n",
    "lambda_o, lambda_w = mobility(BCW, BCE, BCN, BCS, Kr_o[0], Kr_w[0], Vis_o[0], Vis_w[0], Bo[0], Bw[0], Po[0], Pw[0], ndx, ndy)"
   ]
  },
  {
   "cell_type": "code",
   "execution_count": 67,
   "id": "3b3be2f7-4962-4861-84b0-f2892d8bcd6c",
   "metadata": {},
   "outputs": [
    {
     "data": {
      "text/plain": [
       "0.0"
      ]
     },
     "execution_count": 67,
     "metadata": {},
     "output_type": "execute_result"
    }
   ],
   "source": [
    "(S_w[0][3][7] - S_wr) / (1-S_or-S_wr)"
   ]
  },
  {
   "cell_type": "code",
   "execution_count": 72,
   "id": "54ed72fc-8e78-407e-ad59-ac34252efc9e",
   "metadata": {},
   "outputs": [
    {
     "data": {
      "text/plain": [
       "array([[0.576, 0.576, 0.576, 0.576, 0.576, 0.576, 0.576, 0.576, 0.576,\n",
       "        0.576],\n",
       "       [0.576, 0.576, 0.576, 0.576, 0.576, 0.576, 0.576, 0.576, 0.576,\n",
       "        0.576],\n",
       "       [0.576, 0.576, 0.576, 0.576, 0.576, 0.576, 0.576, 0.576, 0.576,\n",
       "        0.576],\n",
       "       [0.576, 0.576, 0.576, 0.576, 0.576, 0.576, 0.576, 0.576, 0.576,\n",
       "        0.576],\n",
       "       [0.576, 0.576, 0.576, 0.576, 0.576, 0.576, 0.576, 0.576, 0.576,\n",
       "        0.576],\n",
       "       [0.576, 0.576, 0.576, 0.576, 0.576, 0.576, 0.576, 0.576, 0.576,\n",
       "        0.576],\n",
       "       [0.576, 0.576, 0.576, 0.576, 0.576, 0.576, 0.576, 0.576, 0.576,\n",
       "        0.576],\n",
       "       [0.576, 0.576, 0.576, 0.576, 0.576, 0.576, 0.576, 0.576, 0.576,\n",
       "        0.576],\n",
       "       [0.576, 0.576, 0.576, 0.576, 0.576, 0.576, 0.576, 0.576, 0.576,\n",
       "        0.576],\n",
       "       [0.576, 0.576, 0.576, 0.576, 0.576, 0.576, 0.576, 0.576, 0.576,\n",
       "        0.576]])"
      ]
     },
     "execution_count": 72,
     "metadata": {},
     "output_type": "execute_result"
    }
   ],
   "source": [
    "0.9 * np.power(1-S_w[0], 2)"
   ]
  },
  {
   "cell_type": "code",
   "execution_count": 30,
   "id": "056a5cc9-1ea8-4465-a759-bad0fef10a99",
   "metadata": {},
   "outputs": [
    {
     "ename": "NameError",
     "evalue": "name 'lambda_o' is not defined",
     "output_type": "error",
     "traceback": [
      "\u001b[0;31m---------------------------------------------------------------------------\u001b[0m",
      "\u001b[0;31mNameError\u001b[0m                                 Traceback (most recent call last)",
      "\u001b[0;32m/tmp/ipykernel_537/3878270256.py\u001b[0m in \u001b[0;36m<module>\u001b[0;34m\u001b[0m\n\u001b[0;32m----> 1\u001b[0;31m \u001b[0mJo\u001b[0m \u001b[0;34m=\u001b[0m \u001b[0;36m2\u001b[0m \u001b[0;34m*\u001b[0m \u001b[0;36m3.14\u001b[0m \u001b[0;34m*\u001b[0m \u001b[0;36m1.127\u001b[0m \u001b[0;34m*\u001b[0m \u001b[0mnp\u001b[0m\u001b[0;34m.\u001b[0m\u001b[0mmultiply\u001b[0m\u001b[0;34m(\u001b[0m\u001b[0mKx\u001b[0m\u001b[0;34m,\u001b[0m \u001b[0mdz\u001b[0m\u001b[0;34m,\u001b[0m \u001b[0mlambda_o\u001b[0m\u001b[0;34m[\u001b[0m\u001b[0;36m0\u001b[0m\u001b[0;34m]\u001b[0m\u001b[0;34m)\u001b[0m \u001b[0;34m/\u001b[0m \u001b[0;34m(\u001b[0m\u001b[0mnp\u001b[0m\u001b[0;34m.\u001b[0m\u001b[0mlog\u001b[0m\u001b[0;34m(\u001b[0m\u001b[0mr_eq\u001b[0m\u001b[0;34m/\u001b[0m\u001b[0mrw_o\u001b[0m\u001b[0;34m)\u001b[0m \u001b[0;34m+\u001b[0m \u001b[0mS_o\u001b[0m\u001b[0;34m[\u001b[0m\u001b[0;36m0\u001b[0m\u001b[0;34m]\u001b[0m\u001b[0;34m)\u001b[0m\u001b[0;34m\u001b[0m\u001b[0;34m\u001b[0m\u001b[0m\n\u001b[0m\u001b[1;32m      2\u001b[0m \u001b[0mJw\u001b[0m \u001b[0;34m=\u001b[0m \u001b[0;36m2\u001b[0m \u001b[0;34m*\u001b[0m \u001b[0;36m3.14\u001b[0m \u001b[0;34m*\u001b[0m \u001b[0;36m1.127\u001b[0m \u001b[0;34m*\u001b[0m \u001b[0mKx\u001b[0m \u001b[0;34m*\u001b[0m \u001b[0mdz\u001b[0m \u001b[0;34m*\u001b[0m \u001b[0;34m(\u001b[0m\u001b[0mBo\u001b[0m\u001b[0;34m[\u001b[0m\u001b[0;36m0\u001b[0m\u001b[0;34m]\u001b[0m \u001b[0;34m/\u001b[0m \u001b[0mBw\u001b[0m\u001b[0;34m[\u001b[0m\u001b[0;36m0\u001b[0m\u001b[0;34m]\u001b[0m \u001b[0;34m*\u001b[0m \u001b[0mlambda_o\u001b[0m\u001b[0;34m[\u001b[0m\u001b[0;36m0\u001b[0m\u001b[0;34m]\u001b[0m \u001b[0;34m+\u001b[0m \u001b[0mlambda_w\u001b[0m\u001b[0;34m[\u001b[0m\u001b[0;36m0\u001b[0m\u001b[0;34m]\u001b[0m\u001b[0;34m)\u001b[0m \u001b[0;34m/\u001b[0m \u001b[0;34m(\u001b[0m\u001b[0mnp\u001b[0m\u001b[0;34m.\u001b[0m\u001b[0mlog\u001b[0m\u001b[0;34m(\u001b[0m\u001b[0mr_eq\u001b[0m\u001b[0;34m/\u001b[0m\u001b[0mrw_w\u001b[0m\u001b[0;34m)\u001b[0m \u001b[0;34m+\u001b[0m \u001b[0mS_w\u001b[0m\u001b[0;34m[\u001b[0m\u001b[0;36m0\u001b[0m\u001b[0;34m]\u001b[0m\u001b[0;34m)\u001b[0m\u001b[0;34m\u001b[0m\u001b[0;34m\u001b[0m\u001b[0m\n\u001b[1;32m      3\u001b[0m \u001b[0mJow\u001b[0m \u001b[0;34m=\u001b[0m \u001b[0;36m2\u001b[0m \u001b[0;34m*\u001b[0m \u001b[0;36m3.14\u001b[0m \u001b[0;34m*\u001b[0m \u001b[0;36m1.127\u001b[0m \u001b[0;34m*\u001b[0m \u001b[0mnp\u001b[0m\u001b[0;34m.\u001b[0m\u001b[0mmultiply\u001b[0m\u001b[0;34m(\u001b[0m\u001b[0mKx\u001b[0m\u001b[0;34m,\u001b[0m \u001b[0mdz\u001b[0m\u001b[0;34m,\u001b[0m \u001b[0mlambda_w\u001b[0m\u001b[0;34m[\u001b[0m\u001b[0;36m0\u001b[0m\u001b[0;34m]\u001b[0m\u001b[0;34m)\u001b[0m \u001b[0;34m/\u001b[0m \u001b[0;34m(\u001b[0m\u001b[0mnp\u001b[0m\u001b[0;34m.\u001b[0m\u001b[0mlog\u001b[0m\u001b[0;34m(\u001b[0m\u001b[0mr_eq\u001b[0m\u001b[0;34m/\u001b[0m\u001b[0mrw_o\u001b[0m\u001b[0;34m)\u001b[0m \u001b[0;34m+\u001b[0m \u001b[0mS_o\u001b[0m\u001b[0;34m[\u001b[0m\u001b[0;36m0\u001b[0m\u001b[0;34m]\u001b[0m\u001b[0;34m)\u001b[0m\u001b[0;34m\u001b[0m\u001b[0;34m\u001b[0m\u001b[0m\n",
      "\u001b[0;31mNameError\u001b[0m: name 'lambda_o' is not defined"
     ]
    }
   ],
   "source": [
    "Jo = 2 * 3.14 * 1.127 * np.multiply(Kx, dz, lambda_o[0]) / (np.log(r_eq/rw_o) + S_o[0])\n",
    "Jw = 2 * 3.14 * 1.127 * Kx * dz * (Bo[0] / Bw[0] * lambda_o[0] + lambda_w[0]) / (np.log(r_eq/rw_w) + S_w[0])\n",
    "Jow = 2 * 3.14 * 1.127 * np.multiply(Kx, dz, lambda_w[0]) / (np.log(r_eq/rw_o) + S_o[0])"
   ]
  },
  {
   "cell_type": "code",
   "execution_count": 31,
   "id": "76840174-eb79-4899-90c7-7f90bd27dfaf",
   "metadata": {},
   "outputs": [],
   "source": [
    "if IBo == 1 and IBw == 1:\n",
    "    BHPo = Po[0] + Qo[0] / Jo\n",
    "    BHPw = Pw[0] + Qw[0] / Jw\n",
    "    Qwo = Qo[0] * lambda_w[0] / lambda_o[0]"
   ]
  },
  {
   "cell_type": "code",
   "execution_count": null,
   "id": "3877b55f-a3de-4a53-8040-75348de7eca3",
   "metadata": {},
   "outputs": [],
   "source": []
  },
  {
   "cell_type": "code",
   "execution_count": null,
   "id": "aba33bfa-ac2a-4cb7-b043-c877b377cc3c",
   "metadata": {},
   "outputs": [],
   "source": []
  },
  {
   "cell_type": "code",
   "execution_count": null,
   "id": "371bd7c3-daf4-45e5-b046-6ccdb484dd9e",
   "metadata": {},
   "outputs": [],
   "source": []
  }
 ],
 "metadata": {
  "kernelspec": {
   "display_name": "Python 3 (ipykernel)",
   "language": "python",
   "name": "python3"
  },
  "language_info": {
   "codemirror_mode": {
    "name": "ipython",
    "version": 3
   },
   "file_extension": ".py",
   "mimetype": "text/x-python",
   "name": "python",
   "nbconvert_exporter": "python",
   "pygments_lexer": "ipython3",
   "version": "3.8.11"
  }
 },
 "nbformat": 4,
 "nbformat_minor": 5
}
